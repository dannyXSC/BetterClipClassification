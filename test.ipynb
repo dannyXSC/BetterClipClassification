{
 "cells": [
  {
   "cell_type": "code",
   "execution_count": 1,
   "metadata": {},
   "outputs": [
    {
     "name": "stdout",
     "output_type": "stream",
     "text": [
      "1\n",
      "[1]\n"
     ]
    }
   ],
   "source": [
    "l = [1,2,3]\n",
    "print(l[0])\n",
    "print(l[0:1])"
   ]
  },
  {
   "cell_type": "code",
   "execution_count": 3,
   "metadata": {},
   "outputs": [
    {
     "name": "stdout",
     "output_type": "stream",
     "text": [
      "[1, 4, 8]\n"
     ]
    }
   ],
   "source": [
    "l = [1,4,6,8,7]\n",
    "\n",
    "for item in l:\n",
    "    if item>=6:\n",
    "        l.remove(item)\n",
    "print(l)"
   ]
  },
  {
   "cell_type": "code",
   "execution_count": 5,
   "metadata": {},
   "outputs": [
    {
     "name": "stdout",
     "output_type": "stream",
     "text": [
      "[1, 4, 6, 8, 7] 0\n",
      "[1, 4, 6, 8, 7] 1\n",
      "[1, 4, 8, 7] 2\n",
      "[1, 4, 8] 3\n"
     ]
    },
    {
     "ename": "IndexError",
     "evalue": "list index out of range",
     "output_type": "error",
     "traceback": [
      "\u001b[0;31m---------------------------------------------------------------------------\u001b[0m",
      "\u001b[0;31mIndexError\u001b[0m                                Traceback (most recent call last)",
      "\u001b[1;32m/Users/xiesicheng/6kuvj-pvjep/研究生课程/BetterClip/Test/test.ipynb 单元格 3\u001b[0m line \u001b[0;36m4\n\u001b[1;32m      <a href='vscode-notebook-cell:/Users/xiesicheng/6kuvj-pvjep/%E7%A0%94%E7%A9%B6%E7%94%9F%E8%AF%BE%E7%A8%8B/BetterClip/Test/test.ipynb#W2sZmlsZQ%3D%3D?line=0'>1</a>\u001b[0m l \u001b[39m=\u001b[39m [\u001b[39m1\u001b[39m,\u001b[39m4\u001b[39m,\u001b[39m6\u001b[39m,\u001b[39m8\u001b[39m,\u001b[39m7\u001b[39m]\n\u001b[1;32m      <a href='vscode-notebook-cell:/Users/xiesicheng/6kuvj-pvjep/%E7%A0%94%E7%A9%B6%E7%94%9F%E8%AF%BE%E7%A8%8B/BetterClip/Test/test.ipynb#W2sZmlsZQ%3D%3D?line=2'>3</a>\u001b[0m \u001b[39mfor\u001b[39;00m i \u001b[39min\u001b[39;00m \u001b[39mrange\u001b[39m(\u001b[39mlen\u001b[39m(l)):\n\u001b[0;32m----> <a href='vscode-notebook-cell:/Users/xiesicheng/6kuvj-pvjep/%E7%A0%94%E7%A9%B6%E7%94%9F%E8%AF%BE%E7%A8%8B/BetterClip/Test/test.ipynb#W2sZmlsZQ%3D%3D?line=3'>4</a>\u001b[0m     item \u001b[39m=\u001b[39m l[i]\n\u001b[1;32m      <a href='vscode-notebook-cell:/Users/xiesicheng/6kuvj-pvjep/%E7%A0%94%E7%A9%B6%E7%94%9F%E8%AF%BE%E7%A8%8B/BetterClip/Test/test.ipynb#W2sZmlsZQ%3D%3D?line=4'>5</a>\u001b[0m     \u001b[39mif\u001b[39;00m item\u001b[39m>\u001b[39m\u001b[39m=\u001b[39m\u001b[39m6\u001b[39m:\n\u001b[1;32m      <a href='vscode-notebook-cell:/Users/xiesicheng/6kuvj-pvjep/%E7%A0%94%E7%A9%B6%E7%94%9F%E8%AF%BE%E7%A8%8B/BetterClip/Test/test.ipynb#W2sZmlsZQ%3D%3D?line=5'>6</a>\u001b[0m         l\u001b[39m.\u001b[39mremove(item)\n",
      "\u001b[0;31mIndexError\u001b[0m: list index out of range"
     ]
    }
   ],
   "source": [
    "l = [1,4,6,8,7]\n",
    "\n",
    "for i in range(len(l)):\n",
    "    item = l[i]\n",
    "    if item>=6:\n",
    "        l.remove(item)\n",
    "    print(l,i)\n",
    "\n",
    "        "
   ]
  },
  {
   "cell_type": "code",
   "execution_count": null,
   "metadata": {},
   "outputs": [],
   "source": []
  }
 ],
 "metadata": {
  "kernelspec": {
   "display_name": "course",
   "language": "python",
   "name": "python3"
  },
  "language_info": {
   "codemirror_mode": {
    "name": "ipython",
    "version": 3
   },
   "file_extension": ".py",
   "mimetype": "text/x-python",
   "name": "python",
   "nbconvert_exporter": "python",
   "pygments_lexer": "ipython3",
   "version": "3.8.17"
  }
 },
 "nbformat": 4,
 "nbformat_minor": 2
}
